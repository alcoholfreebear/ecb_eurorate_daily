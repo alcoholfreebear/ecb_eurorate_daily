{
 "cells": [
  {
   "cell_type": "markdown",
   "metadata": {
    "toc": true
   },
   "source": [
    "<h1>Table of Contents<span class=\"tocSkip\"></span></h1>\n",
    "<div class=\"toc\"><ul class=\"toc-item\"><li><span><a href=\"#Load-historical-daily-exchange-rates-ECB\" data-toc-modified-id=\"Load-historical-daily-exchange-rates-ECB-1\"><span class=\"toc-item-num\">1&nbsp;&nbsp;</span>Load historical daily exchange rates ECB</a></span></li><li><span><a href=\"#Seed-the-table\" data-toc-modified-id=\"Seed-the-table-2\"><span class=\"toc-item-num\">2&nbsp;&nbsp;</span>Seed the table</a></span></li></ul></div>"
   ]
  },
  {
   "cell_type": "markdown",
   "metadata": {},
   "source": [
    "## Load historical daily exchange rates ECB"
   ]
  },
  {
   "cell_type": "code",
   "execution_count": 39,
   "metadata": {
    "ExecuteTime": {
     "end_time": "2020-11-13T14:51:58.767381Z",
     "start_time": "2020-11-13T14:51:58.764640Z"
    }
   },
   "outputs": [],
   "source": [
    "# import wget\n",
    "import numpy as np\n",
    "import pandas as pd\n",
    "import pandas_gbq\n",
    "import logging"
   ]
  },
  {
   "cell_type": "code",
   "execution_count": null,
   "metadata": {
    "ExecuteTime": {
     "end_time": "2020-11-13T11:51:33.203599Z",
     "start_time": "2020-11-13T11:51:32.343311Z"
    }
   },
   "outputs": [],
   "source": []
  },
  {
   "cell_type": "code",
   "execution_count": 54,
   "metadata": {
    "ExecuteTime": {
     "end_time": "2020-11-13T15:42:20.837404Z",
     "start_time": "2020-11-13T15:42:20.830254Z"
    }
   },
   "outputs": [],
   "source": [
    "def load_data(opt:str='new'):\n",
    "    \"\"\"\n",
    "    opt: {'hist', 'new'}\n",
    "    \"\"\"\n",
    "    urls = {\n",
    "        \"hist\":\"https://www.ecb.europa.eu/stats/eurofxref/eurofxref-hist.zip\",\n",
    "        \"new\":\"https://www.ecb.europa.eu/stats/eurofxref/eurofxref.zip\"}\n",
    "    hist= pd.read_csv(urls[opt], compression='zip')\n",
    "    return hist\n",
    "\n",
    "def process_data(hist:pd.DataFrame)->pd.DataFrame:\n",
    "    value_cols = [x for x in hist.columns  if (x.strip() not in ['Date', ''])and('Unnamed' not in x)]\n",
    "    hist = hist.pipe(pd.melt,\n",
    "                    id_vars=['Date'], \n",
    "                    var_name='CurrencyCode',\n",
    "                    value_vars=value_cols,\n",
    "                    value_name='EuroToCurrency')\n",
    "    hist['CurrencyToEuro']=1/hist['EuroToCurrency']\n",
    "    hist['Date']=pd.to_datetime(hist['Date'], utc=True)\n",
    "    hist['CurrencyCode']=hist['CurrencyCode'].str.strip()\n",
    "    return hist\n"
   ]
  },
  {
   "cell_type": "code",
   "execution_count": 57,
   "metadata": {
    "ExecuteTime": {
     "end_time": "2020-11-13T15:42:42.301514Z",
     "start_time": "2020-11-13T15:42:42.297362Z"
    }
   },
   "outputs": [
    {
     "data": {
      "text/plain": [
       "False"
      ]
     },
     "execution_count": 57,
     "metadata": {},
     "output_type": "execute_result"
    }
   ],
   "source": [
    "indata['Date'].max()>max_hist_date"
   ]
  },
  {
   "cell_type": "markdown",
   "metadata": {},
   "source": [
    "## Seed the table"
   ]
  },
  {
   "cell_type": "code",
   "execution_count": 41,
   "metadata": {
    "ExecuteTime": {
     "end_time": "2020-11-13T14:52:00.686428Z",
     "start_time": "2020-11-13T14:52:00.682807Z"
    }
   },
   "outputs": [],
   "source": [
    "\n",
    "def data_is_new(indata):\n",
    "    indata=load_data('new')\n",
    "    indata=process_data(indata)\n",
    "    indata['Date'].max()\n",
    "    max_hist_date=pandas_gbq.read_gbq(\"\"\"\n",
    "            SELECT max(Date) FROM `ds-smartsupply.currency_exchange.euro_rates_daily`\n",
    "            \"\"\").values.item()\n",
    "    return indata['Date'].max()>max_hist_date\n",
    "\n",
    "def upload_to_bq(hist_bq:pd.DataFrame, if_exists:str='replace'):\n",
    "    project_id = 'whatever'\n",
    "    dataset_id = 'currency_exchange'\n",
    "    table_id = 'euro_rates_daily'\n",
    "    pandas_gbq.to_gbq(hist_bq,  f'{dataset_id}.{table_id}', project_id=project_id, if_exists=if_exists, location='europe-west2')\n",
    "    message_string = f'{len(hist_bq)} rows uploaded to table `{dataset_id}.{table_id}`'\n",
    "    print(message_string)\n",
    "    return({'status':message_string})\n",
    "\n",
    "\n",
    "def seed_historical():\n",
    "    try:\n",
    "        hist = load_data('hist')\n",
    "        hist = process_data(hist)\n",
    "        upload_to_bq(hist)\n",
    "        return 'success'\n",
    "    except: return 'failure'\n",
    "\n",
    "def append_new():\n",
    "    try:\n",
    "        new = load_data('new')\n",
    "        new = process_data(new)\n",
    "        if data_is_new(indata=new):\n",
    "            upload_to_bq(new, if_exists='append')\n",
    "        else:\n",
    "            print('no new data to append')\n",
    "        return 'success'\n",
    "    except:\n",
    "        return 'failure'\n",
    "\n"
   ]
  }
 ],
 "metadata": {
  "kernelspec": {
   "display_name": "dsdc-monitoring",
   "language": "python",
   "name": "dsdc-monitoring"
  },
  "language_info": {
   "codemirror_mode": {
    "name": "ipython",
    "version": 3
   },
   "file_extension": ".py",
   "mimetype": "text/x-python",
   "name": "python",
   "nbconvert_exporter": "python",
   "pygments_lexer": "ipython3",
   "version": "3.7.6"
  },
  "latex_envs": {
   "LaTeX_envs_menu_present": true,
   "autoclose": false,
   "autocomplete": true,
   "bibliofile": "biblio.bib",
   "cite_by": "apalike",
   "current_citInitial": 1,
   "eqLabelWithNumbers": true,
   "eqNumInitial": 1,
   "hotkeys": {
    "equation": "Ctrl-E",
    "itemize": "Ctrl-I"
   },
   "labels_anchors": false,
   "latex_user_defs": false,
   "report_style_numbering": false,
   "user_envs_cfg": false
  },
  "toc": {
   "base_numbering": 1,
   "nav_menu": {},
   "number_sections": true,
   "sideBar": true,
   "skip_h1_title": false,
   "title_cell": "Table of Contents",
   "title_sidebar": "Contents",
   "toc_cell": true,
   "toc_position": {},
   "toc_section_display": true,
   "toc_window_display": false
  }
 },
 "nbformat": 4,
 "nbformat_minor": 4
}
